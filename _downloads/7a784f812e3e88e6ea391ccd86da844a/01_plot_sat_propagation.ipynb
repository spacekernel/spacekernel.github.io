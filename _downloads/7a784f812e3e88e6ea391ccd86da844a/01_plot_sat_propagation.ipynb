{
  "cells": [
    {
      "cell_type": "markdown",
      "metadata": {},
      "source": [
        "\n\n# Satellite Propagation\n\nIt is often the case that an antenna has been tested at a frequency and samples\nof its fields are collected in several different directions. In this context,\nthis tutorial will help you on how to handle this kind of data and use AFTK\ntools to visualise it.\n\n## Theory (Optional)\n\n\nConsider the domain $D = \\left(-\\pi,\\pi\\right]\\times\\left[-\\frac{\\pi}{2}, \\frac{\\pi}{2}\\right]$\n\n\\begin{align}\\StateDot\\pare{\\Time}\n    =\n    \\boldsymbol{\\Psi}\\pare{\\vphantom{\\frac{}{}}\\Time, \\State\\pare{\\Time}}\n    +\n    \\bmrm{b}\n    \\dot{\\bmrm{v}}\n    \\pare{\\Time}\\end{align}\n"
      ]
    },
    {
      "cell_type": "code",
      "execution_count": null,
      "metadata": {
        "collapsed": false
      },
      "outputs": [],
      "source": [
        "from matplotlib import pyplot\n\n\nfigure, axes = pyplot.subplots()\n\npyplot.show()"
      ]
    }
  ],
  "metadata": {
    "kernelspec": {
      "display_name": "Python 3",
      "language": "python",
      "name": "python3"
    },
    "language_info": {
      "codemirror_mode": {
        "name": "ipython",
        "version": 3
      },
      "file_extension": ".py",
      "mimetype": "text/x-python",
      "name": "python",
      "nbconvert_exporter": "python",
      "pygments_lexer": "ipython3",
      "version": "3.12.1"
    }
  },
  "nbformat": 4,
  "nbformat_minor": 0
}