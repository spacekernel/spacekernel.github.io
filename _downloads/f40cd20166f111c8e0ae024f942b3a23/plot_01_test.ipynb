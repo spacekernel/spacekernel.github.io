{
  "cells": [
    {
      "cell_type": "markdown",
      "metadata": {},
      "source": [
        "\n\n# Reference Ellipsoid\n\n\n\n## Parametrization Theory (Optional)\n\n\nConsider the domain $D = \\left(-\\pi,\\pi\\right]\\times\\left[-\\frac{\\pi}{2}, \\frac{\\pi}{2}\\right]$\n\nIn this sense, let $\\PosSph \\in \\Real^{3\\times1}$ be the position of a sphere surface, then. \n\n\n\n\n\n\\begin{align}\\Pos\\pare{\\lambda, \\beta}\n    =\n    \\Pos_{\\mathrm{surf}}\\pare{\\lambda, \\beta}\n    +\n    h \\hat{\\boldsymbol{n}}\\pare{\\lambda, \\beta}\\end{align}\n\n\n<img src=\"file://_static/tikzpic/ellipsoid.svg\" align=\"center\" width=\"300px\">\n"
      ]
    },
    {
      "cell_type": "code",
      "execution_count": null,
      "metadata": {
        "collapsed": false
      },
      "outputs": [],
      "source": [
        "from matplotlib import pyplot\n\n\nfigure, axes = pyplot.subplots()\n\npyplot.show()"
      ]
    }
  ],
  "metadata": {
    "kernelspec": {
      "display_name": "Python 3",
      "language": "python",
      "name": "python3"
    },
    "language_info": {
      "codemirror_mode": {
        "name": "ipython",
        "version": 3
      },
      "file_extension": ".py",
      "mimetype": "text/x-python",
      "name": "python",
      "nbconvert_exporter": "python",
      "pygments_lexer": "ipython3",
      "version": "3.12.1"
    }
  },
  "nbformat": 4,
  "nbformat_minor": 0
}